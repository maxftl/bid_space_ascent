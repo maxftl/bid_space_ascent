{
 "cells": [
  {
   "cell_type": "code",
   "execution_count": 22,
   "metadata": {},
   "outputs": [],
   "source": [
    "import sympy as sp\n",
    "import numpy as np"
   ]
  },
  {
   "cell_type": "code",
   "execution_count": 13,
   "metadata": {},
   "outputs": [],
   "source": [
    "f_0, f_1, g_0, g_1 = sp.symbols('f0 f1 g0 g1', nonnegative = True, real = True)\n",
    "b = sp.Symbol('b', nonnegative = True, real = True)\n",
    "\n",
    "f = sp.Piecewise(\n",
    "    (f_0, b < sp.Rational(1,2)),\n",
    "    (f_1, b >= sp.Rational(1,2))\n",
    ")\n",
    "g = sp.Piecewise(\n",
    "    (g_0, b < sp.Rational(1,2)),\n",
    "    (g_1, b >= sp.Rational(1,2))\n",
    ")\n",
    "F = sp.integrate(f, (b,0,b))\n",
    "G = sp.integrate(g, (b,0,b))\n"
   ]
  },
  {
   "cell_type": "code",
   "execution_count": 19,
   "metadata": {},
   "outputs": [
    {
     "name": "stdout",
     "output_type": "stream",
     "text": [
      "-f0**2/24 + f0*g0/12 + f0/8 - g0/12 - 1/12\n",
      "f0*g0/12 - f0/12 - g0**2/24 + g0/8 - 1/12\n"
     ]
    }
   ],
   "source": [
    "utility_1 = sp.integrate( (F-b)*G*f, (b,0,1) )\n",
    "utility_2 = sp.integrate( (G-b)*F*g, (b,0,1) )\n",
    "\n",
    "substitution = {f_1: 2-f_0, g_1: 2 - g_0}\n",
    "\n",
    "utility_1_reduced = utility_1.subs(substitution)\n",
    "utility_2_reduced = utility_2.subs(substitution)\n",
    "\n",
    "print(utility_1_reduced.simplify())\n",
    "print(utility_2_reduced.simplify())"
   ]
  },
  {
   "cell_type": "code",
   "execution_count": 28,
   "metadata": {},
   "outputs": [
    {
     "name": "stdout",
     "output_type": "stream",
     "text": [
      "[r**2*(2*f0 + 2*g0) + 2*r*s, r**2*(2*f0 + 2*g0) + 2*r*s]\n"
     ]
    }
   ],
   "source": [
    "monomials = [f_0 + g_0, 1]\n",
    "r, s = sp.symbols('r s')\n",
    "ansatz = r**2*monomials[0]**2 + 2*r*s*monomials[0] + s**2*monomials[1]**2\n",
    "gradient = [ansatz.diff(f_0), ansatz.diff(g_0)]"
   ]
  },
  {
   "cell_type": "code",
   "execution_count": 31,
   "metadata": {},
   "outputs": [
    {
     "name": "stdout",
     "output_type": "stream",
     "text": [
      "-r*(-f0**3*r + 3*f0**2*g0*r + f0**2*r - f0**2*s + 3*f0*g0**2*r + 2*f0*g0*r + 4*f0*g0*s - 4*f0*r + f0*s - g0**3*r + g0**2*r - g0**2*s - 4*g0*r + g0*s - 4*s)/12\n"
     ]
    }
   ],
   "source": [
    "vectorfield = [utility_1_reduced, utility_2_reduced]\n",
    "neg_inner_product = -np.dot(vectorfield, gradient)"
   ]
  }
 ],
 "metadata": {
  "kernelspec": {
   "display_name": "Python 3",
   "language": "python",
   "name": "python3"
  },
  "language_info": {
   "codemirror_mode": {
    "name": "ipython",
    "version": 3
   },
   "file_extension": ".py",
   "mimetype": "text/x-python",
   "name": "python",
   "nbconvert_exporter": "python",
   "pygments_lexer": "ipython3",
   "version": "3.11.3"
  }
 },
 "nbformat": 4,
 "nbformat_minor": 2
}
