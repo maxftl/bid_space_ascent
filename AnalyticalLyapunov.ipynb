{
 "cells": [
  {
   "cell_type": "code",
   "execution_count": 2,
   "metadata": {},
   "outputs": [],
   "source": [
    "import sympy as sp\n",
    "import numpy as np\n",
    "from bid_space_ascent.symbolic import (\n",
    "    generate_symbolic_utilities,\n",
    "    generate_centralized_reduced_utilities,\n",
    ")\n",
    "\n",
    "sp.init_printing()"
   ]
  },
  {
   "cell_type": "markdown",
   "metadata": {},
   "source": [
    "# The case n=2\n",
    "\n",
    "It turns out that in this case, dynamics are linear (as long as we are in the interior of the domain)"
   ]
  },
  {
   "cell_type": "code",
   "execution_count": 16,
   "metadata": {},
   "outputs": [
    {
     "name": "stdout",
     "output_type": "stream",
     "text": [
      "Utility agent 1:-f_0**2/24 + f_0*g_0/12 + f_0/8 + g_0/12 + 1/6\n",
      "Utility agent 2:f_0*g_0/12 + f_0/12 - g_0**2/24 + g_0/8 + 1/6\n",
      "Vectorfield V of the dynamics: [-f_0/12 + g_0/12 + 1/8, f_0/12 - g_0/12 + 1/8]\n",
      "V=A(f_0,g_0)^T+c where A=Matrix([[-1/12, 1/12], [1/12, -1/12]]) and c=Matrix([[1/8], [1/8]])\n"
     ]
    }
   ],
   "source": [
    "n = 2\n",
    "\n",
    "f = sp.symarray('f',(2,))\n",
    "g = sp.symarray('g',(2,))\n",
    "\n",
    "utility_1, utility_2 = generate_centralized_reduced_utilities(f,g)\n",
    "\n",
    "print(f\"Utility agent 1:{utility_1.simplify()}\")\n",
    "print(f\"Utility agent 2:{utility_2.simplify()}\")\n",
    "\n",
    "vectorfield = [\n",
    "    utility_1.diff(f[0]),\n",
    "    utility_2.diff(g[0])\n",
    "]\n",
    "\n",
    "print(f\"Vectorfield V of the dynamics: {[u.simplify() for u in vectorfield]}\")\n",
    "\n",
    "poly_vectorfield = [sp.Poly(v,f[0],g[0]) for v in vectorfield]\n",
    "A = sp.Matrix([[v.coeff_monomial(f[0]), v.coeff_monomial(g[0])] for v in poly_vectorfield])\n",
    "c = sp.Matrix([v.coeff_monomial(1) for v in poly_vectorfield])\n",
    "\n",
    "print(f\"V=A(f_0,g_0)^T+c where A={A} and c={c}\")"
   ]
  },
  {
   "cell_type": "markdown",
   "metadata": {},
   "source": [
    "Hence, a natural choice for a Lyapunov function is L(f_0,g_0) = 1/2|A(f_0,g_0)|^2"
   ]
  },
  {
   "cell_type": "code",
   "execution_count": 17,
   "metadata": {},
   "outputs": [
    {
     "name": "stdout",
     "output_type": "stream",
     "text": [
      "Eigenvalues of A: {-1/6: 1, 0: 1}\n"
     ]
    }
   ],
   "source": [
    "print(f\"Eigenvalues of A: {A.eigenvals()}\")"
   ]
  },
  {
   "cell_type": "code",
   "execution_count": 19,
   "metadata": {
    "vscode": {
     "languageId": "latex"
    }
   },
   "outputs": [
    {
     "ename": "SyntaxError",
     "evalue": "invalid syntax (1436944641.py, line 1)",
     "output_type": "error",
     "traceback": [
      "\u001b[1;36m  Cell \u001b[1;32mIn[19], line 1\u001b[1;36m\u001b[0m\n\u001b[1;33m    It follows that $$\\langle \\nabla L, V \\rangle  = (f_0,g_0)A^T\\left(A\\begin{pmatrix}f_0\\\\g_0\\end{pmatrix} + \\begin{pmatrix}1/8\\\\1/8\\end{pmatrix}\\right)$$\u001b[0m\n\u001b[1;37m       ^\u001b[0m\n\u001b[1;31mSyntaxError\u001b[0m\u001b[1;31m:\u001b[0m invalid syntax\n"
     ]
    }
   ],
   "source": [
    "It follows that\n",
    "$$\\langle \\nabla L, V \\rangle  = (f_0,g_0)A^T\\left(A\\begin{pmatrix}f_0\\\\g_0\\end{pmatrix} + \\begin{pmatrix}1/8\\\\1/8\\end{pmatrix}\\right)$$\n"
   ]
  },
  {
   "cell_type": "code",
   "execution_count": 4,
   "metadata": {},
   "outputs": [
    {
     "name": "stdout",
     "output_type": "stream",
     "text": [
      "0\n",
      "0\n",
      "f_0**2*g_0/24 + f_0*f_1*g_0/8 + f_0*f_1*g_1/16 - f_0*g_0/24 + f_1**2*g_0/16 + f_1**2*g_1/24 - 3*f_1*g_0/16 - 5*f_1*g_1/48\n",
      "f_0*g_0**2/24 + f_0*g_0*g_1/8 - f_0*g_0/24 + f_0*g_1**2/16 - 3*f_0*g_1/16 + f_1*g_0*g_1/16 + f_1*g_1**2/24 - 5*f_1*g_1/48\n",
      "-f_0**2*g_0/24 + f_0**2*(g_0 + 2)/16 + f_0*g_0*(f_0 + 2)/16 - 5*f_0*g_0/48 - f_0*(f_0 + 2)*(g_0 + 2)/8 + 3*f_0*(g_0 + 2)/16 + (f_0 + 2)**2*(g_0 + 2)/24 - (f_0 + 2)*(g_0 + 2)/24\n",
      "0\n",
      "0\n"
     ]
    }
   ],
   "source": [
    "f = sp.symarray('f', (2,))\n",
    "f_0 = f[0]\n",
    "f_1 = f[1]\n",
    "g = sp.symarray('g', (2,))\n",
    "g_0 = g[0]\n",
    "g_1 = g[1]\n",
    "b = sp.Symbol('b', nonnegative = True, real = True)\n",
    "\n",
    "\n",
    "f_strategy = sp.Piecewise(\n",
    "    (f_0, b < sp.Rational(1,2)),\n",
    "    (f_1, b >= sp.Rational(1,2))\n",
    ")\n",
    "g_strategy = sp.Piecewise(\n",
    "    (g_0, b < sp.Rational(1,2)),\n",
    "    (g_1, b >= sp.Rational(1,2))\n",
    ")\n",
    "F_strategy = sp.integrate(f_strategy, (b,0,b))\n",
    "\n",
    "G_strategy = sp.integrate(g_strategy, (b,0,b))\n",
    "\n",
    "su1, su2 = generate_symbolic_utilities(f, g)\n",
    "utility_1 = sp.integrate( (F_strategy-b)*G_strategy*f_strategy, (b,0,1) )\n",
    "print(utility_1 - su1)\n",
    "utility_2 = sp.integrate( (G_strategy-b)*F_strategy*g_strategy, (b,0,1) )\n",
    "print(utility_2 - su2)\n",
    "print(su1)\n",
    "print(su2)\n",
    "\n",
    "\n",
    "reduction_substitution = {f_1: 2 - f_0, g_1: 2 - g_0}\n",
    "centralization_substitution = {f_0: f_0 + 2, g_0: g_0 + 2}\n",
    "reduced_utility_1 = utility_1.subs(reduction_substitution).subs(centralization_substitution)\n",
    "reduced_utility_2 = utility_2.subs(reduction_substitution).subs(centralization_substitution)\n",
    "print(reduced_utility_1)\n",
    "cru1, cru2 = generate_centralized_reduced_utilities(f,g)\n",
    "print(cru1-reduced_utility_1)\n",
    "print(cru2-reduced_utility_2)\n",
    "\n",
    "vectorfield = [\n",
    "    reduced_utility_1.diff(f_0),\n",
    "    reduced_utility_2.diff(g_0)\n",
    "]\n",
    "\n",
    "#print(vectorfield)\n"
   ]
  },
  {
   "cell_type": "code",
   "execution_count": 22,
   "metadata": {},
   "outputs": [
    {
     "name": "stdout",
     "output_type": "stream",
     "text": [
      "Poly(-1/24*f_0**2 + 1/12*f_0*g_0 + 1/8*f_0 + 1/12*g_0 + 1/6, f_0, g_0, domain='QQ')\n",
      "Poly(-1/12*f_0 + 1/12*g_0 + 1/8, f_0, g_0, domain='QQ')\n"
     ]
    }
   ],
   "source": [
    "n = 2\n",
    "f = sp.symarray('f',n)\n",
    "g = sp.symarray('g',n)\n",
    "variables = np.concatenate([f[:-1],g[:-1]])\n",
    "#A = sp.symarray('A', (2*(n-1),2*(n-1)))\n",
    "#C = A.T @ A\n",
    "cru1, cru2 = generate_centralized_reduced_utilities(f, g)\n",
    "#solution_guess = (variables.reshape((1,2*(n-1))) @ C @ variables.reshape((2*(n-1),1)))[0,0]\n",
    "#solution_grad = [solution_guess.diff(v) for v in variables]\n",
    "vectorfield = [cru1.diff(v) for v in f[:-1]] + [cru2.diff(v) for v in g[:-1]]\n",
    "print(sp.Poly(cru1,*variables))\n",
    "print(sp.Poly(vectorfield[0],*variables))"
   ]
  },
  {
   "cell_type": "code",
   "execution_count": null,
   "metadata": {},
   "outputs": [],
   "source": []
  },
  {
   "cell_type": "code",
   "execution_count": 121,
   "metadata": {},
   "outputs": [
    {
     "name": "stdout",
     "output_type": "stream",
     "text": [
      "Poly(-1/12*f_0 + 1/12*g_0 + 1/8, f_0, g_0, domain='QQ')\n",
      "Poly((a/6 + b/12)*f_0**2 + (-a/3 - b/6)*f_0*g_0 + (-a/4 + b/8)*f_0 + (a/6 + b/12)*g_0**2 + (-a/4 + b/8)*g_0, f_0, g_0, domain='QQ[a,b]')\n"
     ]
    }
   ],
   "source": [
    "a, b  = sp.symbols('a b')\n",
    "solution_guess = a*f_0**2 - b*f_0*g_0 + a*g_0**2\n",
    "solution_gradient = [solution_guess.diff(f_0), solution_guess.diff(g_0)]\n",
    "neg_inner_product = -np.dot(vectorfield, solution_gradient)\n",
    "print(sp.Poly(vectorfield[0],f_0,g_0))\n",
    "print(sp.Poly(neg_inner_product, f_0, g_0))"
   ]
  },
  {
   "cell_type": "code",
   "execution_count": 111,
   "metadata": {},
   "outputs": [
    {
     "name": "stdout",
     "output_type": "stream",
     "text": [
      "Poly((l1/6 + 4*phi - 49/6)*f_0**2 + (-alpha - l1/3 + 4*phi - 43/6)*f_0*g_0 + (-l1/4 + 2*phi**2 + 3/16)*f_0 + (l1/6 + 4*phi - 49/6)*g_0**2 + (-l1/4 + 2*phi**2 + 3/16)*g_0, f_0, g_0, domain='QQ[l1,alpha,phi]')\n"
     ]
    }
   ],
   "source": [
    "'''utility_calculator = UtilityCalculator(2)\n",
    "\n",
    "f = sp.symarray(\"f\", (2,))\n",
    "g = sp.symarray(\"g\", (2,))\n",
    "\n",
    "utility_1 = utility_calculator.getUtility(f, g)\n",
    "utility_2 = utility_calculator.getUtility(g, f)\n",
    "utility_1 = utility_1.subs({f[1]: 2 - f[0], g[1]: 2 - g[0]}).subs(\n",
    "    {f[0]: f[0] + 2, g[0]: g[0] + 2}\n",
    ")\n",
    "utility_2 = utility_2.subs({f[1]: 2 - f[0], g[1]: 2 - g[0]}).subs(\n",
    "    {f[0]: f[0] + 2, g[0]: g[0] + 2}\n",
    ")'''\n",
    "\n",
    "l1, l2 = sp.symbols('l1 l2')\n",
    "lyapunov_ansatz = l1 * (f[0] ** 2 + g[0] ** 2) + l2 * f[0] * g[0]\n",
    "ansatz_gradient = [\n",
    "    lyapunov_ansatz.diff(f[0]).simplify(),\n",
    "    lyapunov_ansatz.diff(g[0]).simplify(),\n",
    "]\n",
    "neg_inner_product = -np.dot(vectorfield, ansatz_gradient)\n",
    "\n",
    "\n",
    "alpha, beta, gamma, delta, epsilon, phi, mu, nu, xi, omega, omikron = sp.symbols(\n",
    "    \"alpha beta gamma delta epsilon phi mu nu xi omega omikron\"\n",
    ")\n",
    "chi_0 = nu * (f_0**2 + g_0**2) + alpha * f_0 * g_0\n",
    "chi_1 = beta * f_0**2 + gamma * g_0**2 + delta * f_0 * g_0\n",
    "chi_2 = beta * g_0**2 + gamma * f_0**2 + delta * f_0 * g_0\n",
    "chi_3 = (\n",
    "    (epsilon * f_0 + phi) ** 2\n",
    "    + (mu * g_0 + nu) ** 2\n",
    "    + (xi * f_0 + omikron * g_0 + omega) ** 2\n",
    ")\n",
    "chi_4 = (\n",
    "    (epsilon * g_0 + phi) ** 2\n",
    "    + (mu * f_0 + nu) ** 2\n",
    "    + (xi * f_0 + omikron * g_0 + omega) ** 2\n",
    ")\n",
    "combination = (\n",
    "    chi_0 + chi_1 * (f_0 + 2) + chi_2 * (g_0 + 2) + chi_3 * (-f_0) + chi_4 * (-g_0)\n",
    ")\n",
    "\n",
    "\n",
    "substitution = {\n",
    "    beta: 2, #epsilon**2 + xi**2,\n",
    "    omikron: 1,  # =xi\n",
    "    xi: 1,\n",
    "    mu: 1,\n",
    "    delta: 2,\n",
    "    gamma: 2,\n",
    "    l2: -1,\n",
    "    epsilon: 1,\n",
    "    nu: sp.Rational(1,4),\n",
    "    omega: phi,\n",
    "}\n",
    "\n",
    "#substitution = {}\n",
    "\n",
    "print( sp.Poly((neg_inner_product - combination).subs(substitution), f_0, g_0) )\n"
   ]
  }
 ],
 "metadata": {
  "kernelspec": {
   "display_name": "Python 3",
   "language": "python",
   "name": "python3"
  },
  "language_info": {
   "codemirror_mode": {
    "name": "ipython",
    "version": 3
   },
   "file_extension": ".py",
   "mimetype": "text/x-python",
   "name": "python",
   "nbconvert_exporter": "python",
   "pygments_lexer": "ipython3",
   "version": "3.11.3"
  }
 },
 "nbformat": 4,
 "nbformat_minor": 2
}
