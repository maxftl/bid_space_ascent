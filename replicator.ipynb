{
 "cells": [
  {
   "cell_type": "code",
   "execution_count": 5,
   "metadata": {},
   "outputs": [],
   "source": [
    "import ot\n",
    "import ot.plot\n",
    "import ot.bregman\n",
    "import ot.lp\n",
    "import numpy as np\n",
    "import matplotlib.pyplot as plt\n",
    "from tqdm import tqdm\n",
    "import time\n",
    "from IPython.display import display, clear_output"
   ]
  },
  {
   "cell_type": "code",
   "execution_count": 103,
   "metadata": {},
   "outputs": [],
   "source": [
    "n_values = 50\n",
    "n_bids = 50\n",
    "values = np.linspace(0,1,n_values)\n",
    "bids = np.linspace(0,1,n_bids)\n",
    "\n",
    "#n_values = 2\n",
    "#n_bids = 2\n",
    "#values = np.array([0.25, 0.75])\n",
    "#bids = np.array([0.25, 0.75])"
   ]
  },
  {
   "cell_type": "code",
   "execution_count": 104,
   "metadata": {},
   "outputs": [],
   "source": [
    "def compute_bid_distribution(X):\n",
    "    bid_density = np.sum(X, axis = 0)\n",
    "    return np.cumsum(bid_density) - 0.5 * bid_density\n",
    "\n",
    "def utility_matrix(bid_distribution):\n",
    "    A = values[:,None]*bid_distribution\n",
    "    #print(f'A: {A}')\n",
    "    B = np.transpose(np.tile((bid_distribution*bids)[:,None], (1,n_bids)))\n",
    "    #print(f'B: {B}')\n",
    "    return A-B\n",
    "\n",
    "def weighted_utility(X, utility_matrix):\n",
    "    return np.sum(X * utility_matrix, axis = 1)\n",
    "\n",
    "def update_factor(utility_matrix, weighted_utility):\n",
    "    return (1./n_values)*utility_matrix - weighted_utility[:,None]\n",
    "\n",
    "def update_x(X, update_factor, epsilon):\n",
    "    Y = X + epsilon*update_factor\n",
    "    Y = np.maximum(Y, np.zeros_like(Y))\n",
    "    rowsums = np.sum(Y, axis=1)\n",
    "    scaling = 1./(n_values*rowsums)\n",
    "    return scaling[:,None] * Y"
   ]
  },
  {
   "cell_type": "code",
   "execution_count": 121,
   "metadata": {},
   "outputs": [],
   "source": [
    "X_1 = np.zeros((n_values,n_bids))\n",
    "X_2 = np.zeros((n_values,n_bids))\n",
    "\n",
    "for i in range(n_values):\n",
    "    X_1[i,0] = 1./n_values\n",
    "    X_2[i,n_bids-1] = 1./n_values"
   ]
  },
  {
   "cell_type": "code",
   "execution_count": null,
   "metadata": {},
   "outputs": [],
   "source": [
    "X_1 = np.ones((n_values,n_bids))/(n_values*n_bids)\n",
    "X_2 = np.ones((n_values,n_bids))/(n_values*n_bids)"
   ]
  },
  {
   "cell_type": "code",
   "execution_count": 122,
   "metadata": {},
   "outputs": [
    {
     "name": "stderr",
     "output_type": "stream",
     "text": [
      "100%|██████████| 100/100 [00:00<00:00, 2638.59it/s]"
     ]
    },
    {
     "name": "stdout",
     "output_type": "stream",
     "text": [
      "0.02\n",
      "0.0004\n",
      "0.0\n"
     ]
    },
    {
     "name": "stderr",
     "output_type": "stream",
     "text": [
      "\n"
     ]
    },
    {
     "data": {
      "text/plain": [
       "<matplotlib.image.AxesImage at 0x1adf67be690>"
      ]
     },
     "execution_count": 122,
     "metadata": {},
     "output_type": "execute_result"
    },
    {
     "data": {
      "image/png": "[encoded data removed]",
      "text/plain": [
       "<Figure size 480x480 with 1 Axes>"
      ]
     },
     "metadata": {},
     "output_type": "display_data"
    }
   ],
   "source": [
    "epsilon = 0.01\n",
    "n_iterations = 100\n",
    "\n",
    "\n",
    "for i in tqdm(range(n_iterations)):\n",
    "    bid_distribution_1 = compute_bid_distribution(X_1)\n",
    "    bid_distribution_2 = compute_bid_distribution(X_2)\n",
    "    utility_matrix_1 = utility_matrix(bid_distribution_2)\n",
    "    #print(f'utility_matrix: {utility_matrix_1}')\n",
    "    utility_matrix_2 = utility_matrix(bid_distribution_1)\n",
    "    weighted_utility_1 = weighted_utility(X_1, utility_matrix_1)\n",
    "    #print(f'weighted_utility: {weighted_utility_1}')\n",
    "    weighted_utility_2 = weighted_utility(X_2, utility_matrix_2)\n",
    "    update_factor_1 = update_factor(utility_matrix_1, weighted_utility_1)\n",
    "    #print(f'update factor: {update_factor_1}')\n",
    "    update_factor_2 = update_factor(utility_matrix_2, weighted_utility_2)\n",
    "    X_1 = update_x(X_1, update_factor_1, epsilon)\n",
    "    X_2 = update_x(X_2, update_factor_2, epsilon)\n",
    "\n",
    "print(X_1.max())\n",
    "print(X_1.mean())\n",
    "print(X_1.min())\n",
    "plt.matshow(X_1)"
   ]
  }
 ],
 "metadata": {
  "kernelspec": {
   "display_name": "Python 3",
   "language": "python",
   "name": "python3"
  },
  "language_info": {
   "codemirror_mode": {
    "name": "ipython",
    "version": 3
   },
   "file_extension": ".py",
   "mimetype": "text/x-python",
   "name": "python",
   "nbconvert_exporter": "python",
   "pygments_lexer": "ipython3",
   "version": "3.11.3"
  }
 },
 "nbformat": 4,
 "nbformat_minor": 2
}
