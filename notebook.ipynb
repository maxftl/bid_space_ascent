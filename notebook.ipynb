{
 "cells": [
  {
   "cell_type": "code",
   "execution_count": 1,
   "metadata": {},
   "outputs": [],
   "source": [
    "import ot\n",
    "import ot.plot\n",
    "import ot.bregman\n",
    "import ot.lp\n",
    "import numpy as np\n",
    "import matplotlib.pyplot as plt\n",
    "from tqdm import tqdm\n",
    "import time\n",
    "from IPython.display import display, clear_output"
   ]
  },
  {
   "cell_type": "code",
   "execution_count": 2,
   "metadata": {},
   "outputs": [],
   "source": [
    "n_values = 500\n",
    "n_bids = 500\n",
    "\n",
    "values = np.linspace(0,1,n_values)\n",
    "bids = np.linspace(0,1,n_bids)\n",
    "my_density = np.ones((n_bids,))/n_bids\n",
    "opponent_density = np.ones((n_bids,))/n_bids\n",
    "value_density = np.ones((n_values,))/n_values"
   ]
  },
  {
   "cell_type": "code",
   "execution_count": 3,
   "metadata": {},
   "outputs": [],
   "source": [
    "def cumulative_bid_distribution(bid_density):\n",
    "    return np.cumsum(bid_density) - 0.5 * bid_density\n",
    "\n",
    "def utility_matrix(opponent_density, values, bids):\n",
    "    my_winning_probability = cumulative_bid_distribution(opponent_density)\n",
    "    M = (values[:,None] - bids) * my_winning_probability\n",
    "    return M\n",
    "\n",
    "def compute_gradient(value_density, my_density, utility_matrix):\n",
    "    M = -utility_matrix\n",
    "    plan, log = ot.emd(value_density, my_density, M, log = True)\n",
    "    return -log['v'], plan\n",
    "\n",
    "def vec2simplexV1(vecX, l=1.):\n",
    "    m = vecX.size\n",
    "    vecS = np.sort(vecX)[::-1]\n",
    "    vecC = np.cumsum(vecS) - l\n",
    "    vecH = vecS - vecC / (np.arange(m) + 1)\n",
    "    r = np.max(np.where(vecH>0)[0])\n",
    "    t = vecC[r] / (r + 1)\n",
    "    return np.maximum(0, vecX - t)\n",
    "\n"
   ]
  },
  {
   "cell_type": "code",
   "execution_count": null,
   "metadata": {},
   "outputs": [],
   "source": [
    "#reg = 1e-2\n",
    "#plan, log = ot.bregman.sinkhorn(value_density, my_density, M, reg, log = True)\n",
    "#plan, log = ot.emd(value_density, my_density, M, log = True)\n",
    "#ot.plot.plot1D_mat(value_density, my_density, plan, 'yolo')"
   ]
  },
  {
   "cell_type": "code",
   "execution_count": null,
   "metadata": {},
   "outputs": [],
   "source": [
    "density_1 = vec2simplexV1(np.random.uniform(0.,1.,(n_bids,)))\n",
    "density_2 = vec2simplexV1(np.random.uniform(0.,1.,(n_bids,)))\n",
    "step_size = .01\n",
    "n_iterations = 3000\n",
    "\n",
    "fig = plt.figure()\n",
    "ax = fig.add_subplot(1,1,1)\n",
    "\n",
    "for i in tqdm(range(n_iterations)):\n",
    "    utility_1 = utility_matrix(density_2, values, bids)\n",
    "    utility_2 = utility_matrix(density_1, values, bids)\n",
    "    gradient_1, _ = compute_gradient(value_density, density_1, utility_1)\n",
    "    gradient_2, _ = compute_gradient(value_density, density_2, utility_2)\n",
    "    density_1 = vec2simplexV1(density_1 + 10.*(1./(i+1.))*gradient_1)\n",
    "    density_2 = vec2simplexV1(density_2 + 10*(1./(i+1.))*gradient_2)\n",
    "\n",
    "    if i % 50 == 0:\n",
    "        clear_output(wait=True)\n",
    "        ax.cla()\n",
    "        ax.plot(density_1)\n",
    "        display(fig)\n"
   ]
  },
  {
   "cell_type": "code",
   "execution_count": null,
   "metadata": {},
   "outputs": [],
   "source": [
    "equilibrium_strategy = np.zeros((n_bids))\n",
    "for i in range(int(n_bids/2)):\n",
    "    equilibrium_strategy[i] = 1.\n",
    "equilibrium_strategy = vec2simplexV1(equilibrium_strategy)\n",
    "\n",
    "num_tests = 1000\n",
    "\n",
    "distance_inner_pairs = []\n",
    "for _ in tqdm(range(num_tests)):\n",
    "    density_1 = vec2simplexV1(np.random.uniform(0.,1.,(n_bids,)))\n",
    "    density_2 = vec2simplexV1(np.random.uniform(0.,1.,(n_bids,)))\n",
    "    utility_1 = utility_matrix(density_2, values, bids)\n",
    "    gradient_1, _ = compute_gradient(value_density, density_1, utility_1)\n",
    "    x = np.inner(gradient_1, equilibrium_strategy - density_1)\n",
    "    distance_inner_pairs.append((np.linalg.norm(equilibrium_strategy - density_1), x ))\n",
    "    #if x < 0.:\n",
    "    #    print(\"Au weia\")\n",
    "    #    print(x)\n",
    "    #    fig, ax = plt.subplots(1,2)\n",
    "    #    ax[0].plot(density_1)\n",
    "    #    ax[1].plot(density_2)\n",
    "    #    break\n",
    "\n",
    "plt.scatter([x for (x,_) in distance_inner_pairs],[y for (_,y) in distance_inner_pairs])\n"
   ]
  },
  {
   "cell_type": "code",
   "execution_count": 4,
   "metadata": {},
   "outputs": [
    {
     "name": "stderr",
     "output_type": "stream",
     "text": [
      "  1%|          | 8/1000 [00:00<00:28, 35.36it/s]"
     ]
    },
    {
     "name": "stdout",
     "output_type": "stream",
     "text": [
      "102\n",
      "37\n"
     ]
    },
    {
     "name": "stderr",
     "output_type": "stream",
     "text": [
      "  7%|▋         | 73/1000 [00:03<00:34, 27.11it/s]"
     ]
    },
    {
     "name": "stdout",
     "output_type": "stream",
     "text": [
      "95\n",
      "45\n"
     ]
    },
    {
     "name": "stderr",
     "output_type": "stream",
     "text": [
      " 10%|█         | 105/1000 [00:04<00:28, 31.84it/s]"
     ]
    },
    {
     "name": "stdout",
     "output_type": "stream",
     "text": [
      "140\n",
      "29\n"
     ]
    },
    {
     "name": "stderr",
     "output_type": "stream",
     "text": [
      " 15%|█▍        | 148/1000 [00:05<00:33, 25.42it/s]"
     ]
    },
    {
     "name": "stdout",
     "output_type": "stream",
     "text": [
      "109\n",
      "26\n"
     ]
    },
    {
     "name": "stderr",
     "output_type": "stream",
     "text": [
      " 20%|█▉        | 196/1000 [00:08<00:33, 23.70it/s]"
     ]
    },
    {
     "name": "stdout",
     "output_type": "stream",
     "text": [
      "116\n",
      "4\n"
     ]
    },
    {
     "name": "stderr",
     "output_type": "stream",
     "text": [
      " 22%|██▏       | 218/1000 [00:08<00:28, 26.99it/s]"
     ]
    },
    {
     "name": "stdout",
     "output_type": "stream",
     "text": [
      "96\n",
      "18\n"
     ]
    },
    {
     "name": "stderr",
     "output_type": "stream",
     "text": [
      " 26%|██▌       | 256/1000 [00:10<00:26, 28.11it/s]"
     ]
    },
    {
     "name": "stdout",
     "output_type": "stream",
     "text": [
      "109\n",
      "33\n"
     ]
    },
    {
     "name": "stderr",
     "output_type": "stream",
     "text": [
      " 48%|████▊     | 478/1000 [00:18<00:18, 28.84it/s]"
     ]
    },
    {
     "name": "stdout",
     "output_type": "stream",
     "text": [
      "33\n",
      "11\n"
     ]
    },
    {
     "name": "stderr",
     "output_type": "stream",
     "text": [
      " 51%|█████     | 511/1000 [00:19<00:15, 30.67it/s]"
     ]
    },
    {
     "name": "stdout",
     "output_type": "stream",
     "text": [
      "136\n",
      "10\n"
     ]
    },
    {
     "name": "stderr",
     "output_type": "stream",
     "text": [
      " 53%|█████▎    | 533/1000 [00:20<00:13, 35.40it/s]"
     ]
    },
    {
     "name": "stdout",
     "output_type": "stream",
     "text": [
      "85\n",
      "21\n",
      "115\n",
      "32\n"
     ]
    },
    {
     "name": "stderr",
     "output_type": "stream",
     "text": [
      " 68%|██████▊   | 676/1000 [00:25<00:12, 26.65it/s]\n"
     ]
    },
    {
     "name": "stdout",
     "output_type": "stream",
     "text": [
      "111\n",
      "31\n"
     ]
    },
    {
     "ename": "KeyboardInterrupt",
     "evalue": "",
     "output_type": "error",
     "traceback": [
      "\u001b[1;31m---------------------------------------------------------------------------\u001b[0m",
      "\u001b[1;31mKeyboardInterrupt\u001b[0m                         Traceback (most recent call last)",
      "\u001b[1;32mc:\\Users\\Maximilian Fichtl\\Documents\\bid_space_ascent\\notebook.ipynb Cell 7\u001b[0m line \u001b[0;36m1\n\u001b[0;32m     <a href='vscode-notebook-cell:/c%3A/Users/Maximilian%20Fichtl/Documents/bid_space_ascent/notebook.ipynb#W6sZmlsZQ%3D%3D?line=16'>17</a>\u001b[0m density_2 \u001b[39m=\u001b[39m vec2simplexV1(density_2)\n\u001b[0;32m     <a href='vscode-notebook-cell:/c%3A/Users/Maximilian%20Fichtl/Documents/bid_space_ascent/notebook.ipynb#W6sZmlsZQ%3D%3D?line=17'>18</a>\u001b[0m utility_1 \u001b[39m=\u001b[39m utility_matrix(density_2, values, bids)\n\u001b[1;32m---> <a href='vscode-notebook-cell:/c%3A/Users/Maximilian%20Fichtl/Documents/bid_space_ascent/notebook.ipynb#W6sZmlsZQ%3D%3D?line=18'>19</a>\u001b[0m gradient_1, _ \u001b[39m=\u001b[39m compute_gradient(value_density, density_1, utility_1)\n\u001b[0;32m     <a href='vscode-notebook-cell:/c%3A/Users/Maximilian%20Fichtl/Documents/bid_space_ascent/notebook.ipynb#W6sZmlsZQ%3D%3D?line=19'>20</a>\u001b[0m x \u001b[39m=\u001b[39m np\u001b[39m.\u001b[39minner(gradient_1, equilibrium_strategy \u001b[39m-\u001b[39m density_1)\n\u001b[0;32m     <a href='vscode-notebook-cell:/c%3A/Users/Maximilian%20Fichtl/Documents/bid_space_ascent/notebook.ipynb#W6sZmlsZQ%3D%3D?line=20'>21</a>\u001b[0m distance_inner_pairs\u001b[39m.\u001b[39mappend((np\u001b[39m.\u001b[39mlinalg\u001b[39m.\u001b[39mnorm(equilibrium_strategy \u001b[39m-\u001b[39m density_1), x ))\n",
      "\u001b[1;32mc:\\Users\\Maximilian Fichtl\\Documents\\bid_space_ascent\\notebook.ipynb Cell 7\u001b[0m line \u001b[0;36m1\n\u001b[0;32m      <a href='vscode-notebook-cell:/c%3A/Users/Maximilian%20Fichtl/Documents/bid_space_ascent/notebook.ipynb#W6sZmlsZQ%3D%3D?line=8'>9</a>\u001b[0m \u001b[39mdef\u001b[39;00m \u001b[39mcompute_gradient\u001b[39m(value_density, my_density, utility_matrix):\n\u001b[0;32m     <a href='vscode-notebook-cell:/c%3A/Users/Maximilian%20Fichtl/Documents/bid_space_ascent/notebook.ipynb#W6sZmlsZQ%3D%3D?line=9'>10</a>\u001b[0m     M \u001b[39m=\u001b[39m \u001b[39m-\u001b[39mutility_matrix\n\u001b[1;32m---> <a href='vscode-notebook-cell:/c%3A/Users/Maximilian%20Fichtl/Documents/bid_space_ascent/notebook.ipynb#W6sZmlsZQ%3D%3D?line=10'>11</a>\u001b[0m     plan, log \u001b[39m=\u001b[39m ot\u001b[39m.\u001b[39;49memd(value_density, my_density, M, log \u001b[39m=\u001b[39;49m \u001b[39mTrue\u001b[39;49;00m)\n\u001b[0;32m     <a href='vscode-notebook-cell:/c%3A/Users/Maximilian%20Fichtl/Documents/bid_space_ascent/notebook.ipynb#W6sZmlsZQ%3D%3D?line=11'>12</a>\u001b[0m     \u001b[39mreturn\u001b[39;00m \u001b[39m-\u001b[39mlog[\u001b[39m'\u001b[39m\u001b[39mv\u001b[39m\u001b[39m'\u001b[39m], plan\n",
      "File \u001b[1;32mc:\\Users\\Maximilian Fichtl\\AppData\\Local\\Programs\\Python\\Python311\\Lib\\site-packages\\ot\\lp\\__init__.py:346\u001b[0m, in \u001b[0;36memd\u001b[1;34m(a, b, M, numItermax, log, center_dual, numThreads, check_marginals)\u001b[0m\n\u001b[0;32m    342\u001b[0m bsel \u001b[39m=\u001b[39m b \u001b[39m!=\u001b[39m \u001b[39m0\u001b[39m\n\u001b[0;32m    344\u001b[0m numThreads \u001b[39m=\u001b[39m check_number_threads(numThreads)\n\u001b[1;32m--> 346\u001b[0m G, cost, u, v, result_code \u001b[39m=\u001b[39m emd_c(a, b, M, numItermax, numThreads)\n\u001b[0;32m    348\u001b[0m \u001b[39mif\u001b[39;00m center_dual:\n\u001b[0;32m    349\u001b[0m     u, v \u001b[39m=\u001b[39m center_ot_dual(u, v, a, b)\n",
      "\u001b[1;31mKeyboardInterrupt\u001b[0m: "
     ]
    }
   ],
   "source": [
    "equilibrium_strategy = np.zeros((n_bids))\n",
    "for i in range(int(n_bids/2)):\n",
    "    equilibrium_strategy[i] = 1.\n",
    "equilibrium_strategy = vec2simplexV1(equilibrium_strategy)\n",
    "\n",
    "num_tests = 1000\n",
    "\n",
    "distance_inner_pairs = []\n",
    "for _ in tqdm(range(num_tests)):\n",
    "    i1 = np.random.randint(0,n_bids)\n",
    "    i2 = np.random.randint(0,n_bids)\n",
    "    density_1 = np.zeros((n_bids,))\n",
    "    density_1[:i1] = 1\n",
    "    density_1 = vec2simplexV1(density_1)\n",
    "    density_2 = np.zeros((n_bids,))\n",
    "    density_2[:i2] = 1\n",
    "    density_2 = vec2simplexV1(density_2)\n",
    "    utility_1 = utility_matrix(density_2, values, bids)\n",
    "    gradient_1, _ = compute_gradient(value_density, density_1, utility_1)\n",
    "    x = np.inner(gradient_1, equilibrium_strategy - density_1)\n",
    "    distance_inner_pairs.append((np.linalg.norm(equilibrium_strategy - density_1), x ))\n",
    "    if x < -0.1:\n",
    "        print(i1)\n",
    "        print(i2)\n",
    "\n",
    "\n",
    "plt.scatter([x for (x,_) in distance_inner_pairs],[y for (_,y) in distance_inner_pairs])\n"
   ]
  }
 ],
 "metadata": {
  "kernelspec": {
   "display_name": "Python 3",
   "language": "python",
   "name": "python3"
  },
  "language_info": {
   "codemirror_mode": {
    "name": "ipython",
    "version": 3
   },
   "file_extension": ".py",
   "mimetype": "text/x-python",
   "name": "python",
   "nbconvert_exporter": "python",
   "pygments_lexer": "ipython3",
   "version": "3.11.3"
  },
  "orig_nbformat": 4
 },
 "nbformat": 4,
 "nbformat_minor": 2
}
